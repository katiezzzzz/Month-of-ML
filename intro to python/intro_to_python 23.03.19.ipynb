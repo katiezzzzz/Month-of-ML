{
 "cells": [
  {
   "cell_type": "markdown",
   "metadata": {},
   "source": [
    "Code is just a series of instructions which are read sequentially by our python interpreter which interprets it into lower level code which our computer can execute."
   ]
  },
  {
   "cell_type": "code",
   "execution_count": 1,
   "metadata": {},
   "outputs": [
    {
     "name": "stdout",
     "output_type": "stream",
     "text": [
      "Hello world\n"
     ]
    }
   ],
   "source": [
    "print('Hello world')"
   ]
  },
  {
   "cell_type": "markdown",
   "metadata": {},
   "source": [
    "We can tell the interpreter to ignore a line by putting a # at the start of the line. These are called comments and should be used throughout to explain your code both for other people and your future self. You can also add comments at the end of a line."
   ]
  },
  {
   "cell_type": "code",
   "execution_count": 2,
   "metadata": {},
   "outputs": [
    {
     "name": "stdout",
     "output_type": "stream",
     "text": [
      "Hello world\n",
      "4\n"
     ]
    }
   ],
   "source": [
    "#Prints hello world to the console\n",
    "print('Hello world')\n",
    "print(1+3) #prints the result of the operation 1+3"
   ]
  },
  {
   "cell_type": "markdown",
   "metadata": {},
   "source": [
    "<h2>Variables</h2>\n",
    "Variables are just things which can store values to be used in the rest of our program. We may use them to store the an input from a user or certain values which are used multiple times throughout your program.\n",
    "There are a few main variable types which are used a lot: <br>\n",
    "<strong>Integers</strong> - store whole numbers <br>\n",
    "<strong>Float</strong> - store any real numbers <br>\n",
    "<strong>Boolean</strong> - can only take two values, True or False <br>\n",
    "<strong>String</strong> - store a series of characters <br>\n",
    "<strong>List</strong> - store a list of any other variable type <br>\n",
    "<strong>Dictionary</strong> - store a mapping of one set of values to another <br>\n",
    "\n",
    "To declare a variable, you first write what you would like it to be called followed by its value."
   ]
  },
  {
   "cell_type": "code",
   "execution_count": 3,
   "metadata": {},
   "outputs": [
    {
     "name": "stdout",
     "output_type": "stream",
     "text": [
      "Claire\n"
     ]
    }
   ],
   "source": [
    "age = 19 #integer\n",
    "hairlength = 12.1 #float\n",
    "name = 'Claire' #string\n",
    "isfemale = True #boolean\n",
    "\n",
    "print(name)"
   ]
  },
  {
   "cell_type": "markdown",
   "metadata": {},
   "source": [
    "We can perform operations on variables"
   ]
  },
  {
   "cell_type": "code",
   "execution_count": 4,
   "metadata": {},
   "outputs": [
    {
     "name": "stdout",
     "output_type": "stream",
     "text": [
      "My name is Claire\n",
      "31.1\n"
     ]
    }
   ],
   "source": [
    "print('My name is ' + name)\n",
    "print(age + hairlength)"
   ]
  },
  {
   "cell_type": "markdown",
   "metadata": {},
   "source": [
    "Notice how we will get an error if we try to add an integer to a string. This makes sense because the integer stores the vaue for a number which the string stores a series of characters."
   ]
  },
  {
   "cell_type": "code",
   "execution_count": 5,
   "metadata": {},
   "outputs": [
    {
     "ename": "TypeError",
     "evalue": "can only concatenate str (not \"int\") to str",
     "output_type": "error",
     "traceback": [
      "\u001b[1;31m---------------------------------------------------------------------------\u001b[0m",
      "\u001b[1;31mTypeError\u001b[0m                                 Traceback (most recent call last)",
      "\u001b[1;32m<ipython-input-5-4403dda7bd30>\u001b[0m in \u001b[0;36m<module>\u001b[1;34m\u001b[0m\n\u001b[1;32m----> 1\u001b[1;33m \u001b[0mprint\u001b[0m\u001b[1;33m(\u001b[0m\u001b[1;34m'My age is '\u001b[0m \u001b[1;33m+\u001b[0m \u001b[0mage\u001b[0m\u001b[1;33m)\u001b[0m\u001b[1;33m\u001b[0m\u001b[1;33m\u001b[0m\u001b[0m\n\u001b[0m",
      "\u001b[1;31mTypeError\u001b[0m: can only concatenate str (not \"int\") to str"
     ]
    }
   ],
   "source": [
    "print('My age is ' + age)"
   ]
  },
  {
   "cell_type": "markdown",
   "metadata": {},
   "source": [
    "To fix this error, we have to convert the integer value into a string character so we can add it to the end of our sentence. We can also print multiple items, irregardless of type, by separating them using a comma."
   ]
  },
  {
   "cell_type": "code",
   "execution_count": 6,
   "metadata": {},
   "outputs": [
    {
     "name": "stdout",
     "output_type": "stream",
     "text": [
      "My age is 19\n",
      "My age is 19\n"
     ]
    }
   ],
   "source": [
    "print('My age is ' + str(age)) #str() converts to a string\n",
    "\n",
    "print('My age is', age)"
   ]
  },
  {
   "cell_type": "markdown",
   "metadata": {},
   "source": [
    "Lets say we want to print the age of the person in 5 years by adding 5 to the age variable but the input is taken in as a string. We can do this by first converting the string to an integer then adding 5 to it."
   ]
  },
  {
   "cell_type": "code",
   "execution_count": 7,
   "metadata": {},
   "outputs": [
    {
     "ename": "TypeError",
     "evalue": "can only concatenate str (not \"int\") to str",
     "output_type": "error",
     "traceback": [
      "\u001b[1;31m---------------------------------------------------------------------------\u001b[0m",
      "\u001b[1;31mTypeError\u001b[0m                                 Traceback (most recent call last)",
      "\u001b[1;32m<ipython-input-7-0e6d947d3e9a>\u001b[0m in \u001b[0;36m<module>\u001b[1;34m\u001b[0m\n\u001b[0;32m      1\u001b[0m \u001b[0mage\u001b[0m \u001b[1;33m=\u001b[0m \u001b[1;34m'19'\u001b[0m\u001b[1;33m\u001b[0m\u001b[1;33m\u001b[0m\u001b[0m\n\u001b[0;32m      2\u001b[0m \u001b[1;33m\u001b[0m\u001b[0m\n\u001b[1;32m----> 3\u001b[1;33m \u001b[0mprint\u001b[0m\u001b[1;33m(\u001b[0m\u001b[0mage\u001b[0m \u001b[1;33m+\u001b[0m \u001b[1;36m5\u001b[0m\u001b[1;33m)\u001b[0m \u001b[1;31m#this line will give us an error, comment it out to remove the error\u001b[0m\u001b[1;33m\u001b[0m\u001b[1;33m\u001b[0m\u001b[0m\n\u001b[0m\u001b[0;32m      4\u001b[0m \u001b[1;33m\u001b[0m\u001b[0m\n\u001b[0;32m      5\u001b[0m \u001b[0mprint\u001b[0m\u001b[1;33m(\u001b[0m\u001b[0mint\u001b[0m\u001b[1;33m(\u001b[0m\u001b[0mage\u001b[0m\u001b[1;33m)\u001b[0m \u001b[1;33m+\u001b[0m \u001b[1;36m5\u001b[0m\u001b[1;33m)\u001b[0m \u001b[1;31m#int() converts to an integer\u001b[0m\u001b[1;33m\u001b[0m\u001b[1;33m\u001b[0m\u001b[0m\n",
      "\u001b[1;31mTypeError\u001b[0m: can only concatenate str (not \"int\") to str"
     ]
    }
   ],
   "source": [
    "age = '19'\n",
    "\n",
    "print(age + 5) #this line will give us an error, comment it out to remove the error\n",
    "\n",
    "print(int(age) + 5) #int() converts to an integer"
   ]
  },
  {
   "cell_type": "markdown",
   "metadata": {},
   "source": [
    "<strong>Lists</strong> can be declared just like other variables but we put a set of square brackets around the items in the list. We can print specific items from the list by indexing them using the square brackets. Python starts counting at 0 not 1 so if we want the first item we put 0.<br>\n",
    "If we want to print multiple items we use a colon in the indexing [n:m]. This in inclusive of the starting index n and exclusive of the ending index m. This is also known an slicing.<br>\n",
    "If we want to index starting from the end rather than the start, we put a negative index. Negative indexing starts at 1 as opposed to 0 as -0 does not exist."
   ]
  },
  {
   "cell_type": "code",
   "execution_count": 8,
   "metadata": {},
   "outputs": [
    {
     "name": "stdout",
     "output_type": "stream",
     "text": [
      "[1, 2, '19', 12.1, 'Claire']\n",
      "1\n",
      "[1, 2, '19']\n",
      "[2, '19', 12.1, 'Claire']\n",
      "Claire\n"
     ]
    }
   ],
   "source": [
    "mylist = [1, 2, age, hairlength, name]\n",
    "\n",
    "print(mylist)\n",
    "print(mylist[0]) #single item indexing\n",
    "print(mylist[0:3]) #print first, second and third item\n",
    "print(mylist[1:]) #print from second item to end\n",
    "print(mylist[-1]) #print the final item in the list"
   ]
  },
  {
   "cell_type": "markdown",
   "metadata": {},
   "source": [
    "Given that lists can hold a list of any variable type, you can have a list of lists. This is known as a multi-dimensional list. If we think of a 1 dimensional list as a vector of value, we can think of a 2 dimensional list as a matrix. To get a single value from a 2-d list, we have to specify two indicies."
   ]
  },
  {
   "cell_type": "code",
   "execution_count": 9,
   "metadata": {},
   "outputs": [
    {
     "name": "stdout",
     "output_type": "stream",
     "text": [
      "[[1, 2, 3], [4, 5, 6]]\n",
      "[4, 5, 6]\n",
      "5\n"
     ]
    }
   ],
   "source": [
    "vec1 = [1, 2, 3]\n",
    "vec2 = [4, 5, 6]\n",
    "mat = [vec1, vec2]\n",
    "\n",
    "print(mat)\n",
    "print(mat[1])\n",
    "print(mat[1][1])"
   ]
  },
  {
   "cell_type": "markdown",
   "metadata": {},
   "source": [
    "We can perform operations to lists such as adding to them, removing from them and reversing the order."
   ]
  },
  {
   "cell_type": "code",
   "execution_count": 11,
   "metadata": {},
   "outputs": [
    {
     "name": "stdout",
     "output_type": "stream",
     "text": [
      "['Claire', 12.1, '19', 2, 1, 'new addition']\n",
      "['Claire', 12.1, '19', 2, 1]\n",
      "[1, 2, '19', 12.1, 'Claire']\n"
     ]
    }
   ],
   "source": [
    "mylist.append('new addition')\n",
    "print(mylist)\n",
    "\n",
    "mylist.pop()\n",
    "print(mylist)\n",
    "#pop just removes the element defined in the bracket using index\n",
    "#without index inside the bracket, pop removes the last element by default\n",
    "\n",
    "mylist.reverse()\n",
    "print(mylist)"
   ]
  },
  {
   "cell_type": "markdown",
   "metadata": {},
   "source": [
    "Dictionaries can be used to map between two different sets of values. For example, it can be used to map between the ID of an employee and their name. These are called key:value pairs.<br>\n",
    "To declare a dictionary we use the curly braces. A colon indicated which key maps to which value and commas are used to separate key-value pairs."
   ]
  },
  {
   "cell_type": "code",
   "execution_count": 12,
   "metadata": {},
   "outputs": [
    {
     "name": "stdout",
     "output_type": "stream",
     "text": [
      "John\n"
     ]
    }
   ],
   "source": [
    "idtoname = {0:'John', 1:'Sally', 2:'Jermaine'}\n",
    "\n",
    "print(idtoname[0])"
   ]
  },
  {
   "cell_type": "markdown",
   "metadata": {},
   "source": [
    "<h2>Functions</h2>\n",
    "Functions, like variables, are one of the fundamental concepts in programming and all languages will have some way of defining function. Functions, similar to mathematical functions perform an operation. The only difference is that python fuctions do not have to take in any values or output any values, though they can. <br>\n",
    "We define a function using the def keyword followed by the name of the function and, in brackets, any parameters that the function requires. The return statement indicates the output of the function.<br>\n",
    "To call a function, we simply write the name of the function with brackets and the parameters we want to pass in.<br>\n",
    "\n",
    "In case you did not realise, print() is a function. It takes in as parameters the variables which you would like to print."
   ]
  },
  {
   "cell_type": "code",
   "execution_count": 14,
   "metadata": {},
   "outputs": [
    {
     "name": "stdout",
     "output_type": "stream",
     "text": [
      "15\n"
     ]
    },
    {
     "data": {
      "text/plain": [
       "<function __main__.add(x, y)>"
      ]
     },
     "execution_count": 14,
     "metadata": {},
     "output_type": "execute_result"
    }
   ],
   "source": [
    "def add(x, y):\n",
    "    return x+y\n",
    "\n",
    "thesum = add(5, 10)\n",
    "print(thesum)\n",
    "add"
   ]
  },
  {
   "cell_type": "markdown",
   "metadata": {},
   "source": [
    "Functions do not have to return anything as shown below. We can no longer set a variable such as thesum equal to the output of the function since it does not output/return a value."
   ]
  },
  {
   "cell_type": "code",
   "execution_count": 29,
   "metadata": {},
   "outputs": [
    {
     "name": "stdout",
     "output_type": "stream",
     "text": [
      "15\n"
     ]
    }
   ],
   "source": [
    "def add(x, y):\n",
    "    print(x+y)\n",
    "\n",
    "add(5, 10)"
   ]
  },
  {
   "cell_type": "markdown",
   "metadata": {},
   "source": [
    "Functions do not have to take in parameters, they may be used to simply automate a repetitive task without having to constantly having to rewrite the code."
   ]
  },
  {
   "cell_type": "code",
   "execution_count": 30,
   "metadata": {},
   "outputs": [
    {
     "name": "stdout",
     "output_type": "stream",
     "text": [
      "cheese\n"
     ]
    }
   ],
   "source": [
    "def pc():\n",
    "    print('cheese')\n",
    "\n",
    "pc()"
   ]
  },
  {
   "cell_type": "markdown",
   "metadata": {},
   "source": [
    "<h2>If statements & Logical operators</h2>\n",
    "Until now, the programs we have have been writing have been deterministic, meaning they will perform the same series of instructions each time. If we want to have programs which perform different instructions based on different inputs, we can use if statements. They do exactly what they sound like, they perform one sequence of instructions if a condition is true otherwise they perform another sequence of instructions.<br>\n",
    "To write an if statement, we use the if keyword followed by the condition and the code which should be run if true. <br>\n",
    "To evaluate conditions, we use logical operators as shown below."
   ]
  },
  {
   "cell_type": "code",
   "execution_count": 31,
   "metadata": {},
   "outputs": [
    {
     "name": "stdout",
     "output_type": "stream",
     "text": [
      "False\n",
      "True\n",
      "False\n",
      "True\n",
      "False\n",
      "True\n"
     ]
    }
   ],
   "source": [
    "#Logical operators\n",
    "x=5\n",
    "y=10\n",
    "\n",
    "print(x>y) #is x more than y\n",
    "print(x<y) #is x less than y\n",
    "print(x==y) #is x equal to y? since a single = is used for assignment, we use == to indicate comparison\n",
    "print(x!=y) #is x not equal to y\n",
    "print(x>=y) #is x more than or equal to y\n",
    "print(x<=y) #is x less than or equal to y"
   ]
  },
  {
   "cell_type": "code",
   "execution_count": 36,
   "metadata": {},
   "outputs": [
    {
     "name": "stdout",
     "output_type": "stream",
     "text": [
      "y is bigger or equal\n",
      "y is bigger\n"
     ]
    }
   ],
   "source": [
    "#if statements\n",
    "if x>y:\n",
    "    print('x is bigger')\n",
    "    \n",
    "#we can also add an else clause\n",
    "if x>y:\n",
    "    print('x is bigger')\n",
    "else:\n",
    "    print('y is bigger or equal')\n",
    "\n",
    "#we can also add else if clauses\n",
    "if x>y:\n",
    "    print('x is bigger')\n",
    "elif y==x:\n",
    "    print('they are equal')\n",
    "else:\n",
    "    print('y is bigger')"
   ]
  },
  {
   "cell_type": "markdown",
   "metadata": {},
   "source": [
    "<h2>Loops</h2>\n",
    "A lot of the time in a program, we want to perform certain functions multiple times. We can do this using while loops and for loops. A while loop is used when we want to keep running a block of code while a condition is true. A for loop is used when we want to run a block of code a fixed number of times. The number of times that we want to run it can depend on another variable. For example if we want to iterate over each item in a list, we can run a for loop a different number of times based on the number of items in the list."
   ]
  },
  {
   "cell_type": "code",
   "execution_count": 37,
   "metadata": {},
   "outputs": [
    {
     "name": "stdout",
     "output_type": "stream",
     "text": [
      "0\n",
      "1\n",
      "2\n",
      "3\n",
      "4\n"
     ]
    }
   ],
   "source": [
    "x = 0\n",
    "while x<5:\n",
    "    print(x)\n",
    "    x += 1 #shorthand for x = x+1"
   ]
  },
  {
   "cell_type": "code",
   "execution_count": 38,
   "metadata": {},
   "outputs": [
    {
     "name": "stdout",
     "output_type": "stream",
     "text": [
      "0\n",
      "1\n",
      "2\n",
      "3\n",
      "4\n"
     ]
    }
   ],
   "source": [
    "#iterate 5 times\n",
    "for k in range(5):\n",
    "    print(k)"
   ]
  },
  {
   "cell_type": "code",
   "execution_count": 39,
   "metadata": {},
   "outputs": [
    {
     "name": "stdout",
     "output_type": "stream",
     "text": [
      "item1\n",
      "item2\n",
      "item3\n",
      "item4\n"
     ]
    }
   ],
   "source": [
    "#iterate over a list\n",
    "mylist = ['item1', 'item2', 'item3', 'item4']\n",
    "for item in mylist:\n",
    "    print(item)"
   ]
  },
  {
   "cell_type": "markdown",
   "metadata": {},
   "source": [
    "<h2>Classes and Objects</h2>\n",
    "Classes are basically templates from which we can instantiate objects to use. These classes consist of functions and variables which are shared across each object created from the class though the value of a variable may differ in each object created from the class.<br>\n",
    "All classes should have an initializer functin called __init__ which runs each time an object is instantiated from the class.<br>\n",
    "Each function defined within a class class should take self as a parameter which essentialy means each time the function is run from an object, the changes are made to that specific object. Whenever the function is called, you do not need to pass in self as parameter as it is automatically passed in."
   ]
  },
  {
   "cell_type": "code",
   "execution_count": 41,
   "metadata": {},
   "outputs": [
    {
     "name": "stdout",
     "output_type": "stream",
     "text": [
      "First car is  Stalled\n",
      "Second car is  Moving\n",
      "Second car is  Parked\n"
     ]
    }
   ],
   "source": [
    "class car:\n",
    "    def __init__(self, brand, year):\n",
    "        self.brand = brand\n",
    "        self.year = year\n",
    "        self.state = 'Parked'\n",
    "    \n",
    "    def start(self):\n",
    "        if self.year<=1990:\n",
    "            self.state = 'Stalled'\n",
    "        else:\n",
    "            self.state = 'Moving'\n",
    "    \n",
    "    def stop(self):\n",
    "        self.state = 'Parked'\n",
    "        \n",
    "#now that the class has been define, we will instantiate two objects from it\n",
    "firstcar = car('Ford', 1985)\n",
    "secondcar = car('Tesla', 2017)\n",
    "\n",
    "firstcar.start()\n",
    "print('First car is ', firstcar.state)\n",
    "\n",
    "secondcar.start()\n",
    "print('Second car is ', secondcar.state)\n",
    "\n",
    "secondcar.stop()\n",
    "print('Second car is ', secondcar.state)"
   ]
  }
 ],
 "metadata": {
  "kernelspec": {
   "display_name": "Python 3",
   "language": "python",
   "name": "python3"
  },
  "language_info": {
   "codemirror_mode": {
    "name": "ipython",
    "version": 3
   },
   "file_extension": ".py",
   "mimetype": "text/x-python",
   "name": "python",
   "nbconvert_exporter": "python",
   "pygments_lexer": "ipython3",
   "version": "3.7.1"
  }
 },
 "nbformat": 4,
 "nbformat_minor": 2
}
