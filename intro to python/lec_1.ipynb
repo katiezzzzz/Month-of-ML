{
 "cells": [
  {
   "cell_type": "markdown",
   "metadata": {
    "colab_type": "text",
    "id": "oXu2898lys_c"
   },
   "source": [
    "# Introduction to Python\n",
    "\n",
    "In this short crash course we will learn to code in Python programming language, specifically we will use Python 3, while searching on the internet you may sometime stumble upon Python 2.7. There are a few syntactic differences you will learn along the way.\n",
    "\n",
    "### Advantages\n",
    "\n",
    "* General-purpose language, used in web developement as well as high performance computing\n",
    "* It is an \"interpreted\" programming language, i.e. there is no need to compile your code\n",
    "* Extensive choice of libraries to deal with most complicated problems, especially for data science and machine learning\n",
    "* Has extremely steep learning curve, is easy to read and write\n",
    "* Very well documented, and widely used ([docs.python.org](http://docs.python.org) or check Stack Overflow)\n",
    "* Dynamically-typed - it is not necessary to manually define the types of variables (in most cases)\n",
    "\n",
    "### Disadvantages\n",
    "\n",
    "* Dynamically-typed - it is not necessary to manually define the types of variables - this can cause confusion. It is good practice to leave comments with description of the input for every function\n",
    "* Is slower than other compiled languages, this can be rectified by using libraries that are pre-combiled in other programming languages (*More in the workshop on scientific computing in python)*\n",
    "\n",
    "\n",
    "### Plan for today\n",
    "1. Basics: variables, conditional statements, for/while cycles, functions \n",
    "2. Pythonic basics: list comprehension, lambda functions\n",
    "3. Problem solving\n",
    "\n",
    "### How to learn Python?\n",
    "\n",
    "* It is a language, the only way to learn it is to speak it. *Don't be afraid, make mistakes, and ask questions.*\n",
    "* *Practice makes perfect*. Initially you will be forgetting the commands, the more you practice the sooner you will remember the syntax.\n",
    "* If you don't understand something, first compose the question properly, think about it, and if you can't think of a solution ask someone!\n",
    "* Before you execute any cell, stop and try to predict what it will do! Ideally write your prediction on a piece of paper!\n",
    "* Experiment! Change the code in the cells, try various test cases to understand how the code behaves."
   ]
  },
  {
   "cell_type": "markdown",
   "metadata": {
    "colab_type": "text",
    "id": "K5SPq-zSys_j"
   },
   "source": [
    "## Variables"
   ]
  },
  {
   "cell_type": "markdown",
   "metadata": {
    "colab_type": "text",
    "id": "R0uzJ02Mys_o"
   },
   "source": [
    "Variables are \"black boxes\" used to store values. Each variable is of a specific type, the types define the operations that can be applied to the variables and their response to them. The most common variables are:\n",
    " - *Strings* - A \"string\" of characters\n",
    " - *Integers* - Whole numbers\n",
    " - *Floating-point values* - Decimal numbers\n",
    " - *Boolean* - Binary logic (True / False)\n",
    " "
   ]
  },
  {
   "cell_type": "code",
   "execution_count": null,
   "metadata": {
    "colab": {},
    "colab_type": "code",
    "id": "5hjyJF7qys_s"
   },
   "outputs": [],
   "source": [
    "# This is a comment, text following a hashtag is not interpreted as code.\n",
    "\"\"\"This is also a comment, it is a string, and can span multiple lines.\n",
    "Comments aid understanding of the code, and make it legible.\"\"\""
   ]
  },
  {
   "cell_type": "code",
   "execution_count": null,
   "metadata": {
    "colab": {},
    "colab_type": "code",
    "id": "69iBV3nPys_3"
   },
   "outputs": [],
   "source": [
    "# To execute the code in a cell, press ctrl-shift\n",
    "a = 5  # the variable a is assigned the value 5\n",
    "type(a)  # the type() function displays the variable type of the argument in the brackets"
   ]
  },
  {
   "cell_type": "markdown",
   "metadata": {
    "colab_type": "text",
    "id": "BjAilqYAys__"
   },
   "source": [
    "Now run the following code without any comments and see the difference:"
   ]
  },
  {
   "cell_type": "code",
   "execution_count": null,
   "metadata": {
    "colab": {},
    "colab_type": "code",
    "id": "DIbpyry6ytAD"
   },
   "outputs": [],
   "source": [
    "a = 5  \n",
    "type(a)"
   ]
  },
  {
   "cell_type": "code",
   "execution_count": null,
   "metadata": {
    "colab": {},
    "colab_type": "code",
    "id": "n9V5K04UytAJ"
   },
   "outputs": [],
   "source": [
    "# python automatically guesses the variable type of your input, can you google what this variable type stands for?\n",
    "b = 0.2\n",
    "type(b)"
   ]
  },
  {
   "cell_type": "markdown",
   "metadata": {
    "colab_type": "text",
    "id": "ERLdW1OwytAQ"
   },
   "source": [
    "In order to print out the value of a variable or a calculation, you can use the function print()"
   ]
  },
  {
   "cell_type": "code",
   "execution_count": null,
   "metadata": {
    "colab": {},
    "colab_type": "code",
    "id": "nEzFvIjgytAS"
   },
   "outputs": [],
   "source": [
    "print(a) # don't forget the brackets ()!\n",
    "print(a+15)"
   ]
  },
  {
   "cell_type": "markdown",
   "metadata": {
    "colab_type": "text",
    "id": "I7EGrWPkytAW"
   },
   "source": [
    "Guess the results of the following operations, write them down before running the cell!"
   ]
  },
  {
   "cell_type": "code",
   "execution_count": null,
   "metadata": {
    "colab": {},
    "colab_type": "code",
    "id": "71xmcVtLytAY"
   },
   "outputs": [],
   "source": [
    "print(a/2)\n",
    "print(a//2) # // signifies whole number division\n",
    "print(a%2)  # \"modulo operator\" % is the remainder after division"
   ]
  },
  {
   "cell_type": "markdown",
   "metadata": {
    "colab_type": "text",
    "collapsed": true,
    "id": "x09KPyb1ytAd"
   },
   "source": [
    "Write a code to print the sum of the variable `a` and `b`:"
   ]
  },
  {
   "cell_type": "code",
   "execution_count": null,
   "metadata": {
    "colab": {},
    "colab_type": "code",
    "id": "7Y48TaCTytAe"
   },
   "outputs": [],
   "source": [
    "# CODE HERE\n",
    "print(a+b)"
   ]
  },
  {
   "cell_type": "markdown",
   "metadata": {
    "colab_type": "text",
    "collapsed": true,
    "id": "Z93CuafdytAh"
   },
   "source": [
    "Python can also work as a very powerful calculator, what is 99 to the power of 99? (Hint: powers are denoted by ** in Python)"
   ]
  },
  {
   "cell_type": "code",
   "execution_count": null,
   "metadata": {
    "colab": {},
    "colab_type": "code",
    "id": "gXyUWiEiytAi"
   },
   "outputs": [],
   "source": [
    "# CODE HERE\n",
    "print(99**99)"
   ]
  },
  {
   "cell_type": "markdown",
   "metadata": {
    "colab_type": "text",
    "id": "V2SNEu4KytAl"
   },
   "source": [
    "Create a new variable and print out its type:"
   ]
  },
  {
   "cell_type": "code",
   "execution_count": null,
   "metadata": {
    "colab": {},
    "colab_type": "code",
    "id": "9lBq_8nfytAn"
   },
   "outputs": [],
   "source": [
    "# CODE HERE\n",
    "x = 9.999\n",
    "type(x)"
   ]
  },
  {
   "cell_type": "markdown",
   "metadata": {
    "colab_type": "text",
    "id": "gaWf2s_MytAq"
   },
   "source": [
    "It is possible to add different types in Python, the resulting type is chosen automomatically. (broadcasting)"
   ]
  },
  {
   "cell_type": "code",
   "execution_count": null,
   "metadata": {
    "colab": {},
    "colab_type": "code",
    "id": "ow-ItUo6ytAr",
    "scrolled": true
   },
   "outputs": [],
   "source": [
    "type1 = 'str'   # string\n",
    "type2 = 4       # int\n",
    "type3 = 4.5     # float\n",
    "type4 = True    # bool (logic value True / False)\n",
    "\n",
    "print(type2 + type3)\n",
    "print(type3 + type4)\n",
    "print(type1 + type2)"
   ]
  },
  {
   "cell_type": "markdown",
   "metadata": {
    "colab_type": "text",
    "collapsed": true,
    "id": "J1Kw70gpytAu"
   },
   "source": [
    "**Some types cannot be added together as you can see above! Error messages are a useful feature that allow you to find bugs in your code. Also notice that when adding a float and an int, the result is chosen to be a float.**"
   ]
  },
  {
   "cell_type": "markdown",
   "metadata": {
    "colab_type": "text",
    "id": "r_8UBDGdytAv"
   },
   "source": [
    "## Strings"
   ]
  },
  {
   "cell_type": "markdown",
   "metadata": {
    "colab_type": "text",
    "id": "AMBfZs0tytAx"
   },
   "source": [
    "String is a data type used to represent text in Python:"
   ]
  },
  {
   "cell_type": "code",
   "execution_count": null,
   "metadata": {
    "colab": {},
    "colab_type": "code",
    "id": "ayjgapmEytAx"
   },
   "outputs": [],
   "source": [
    "c = \"abc\"\n",
    "type(c)"
   ]
  },
  {
   "cell_type": "markdown",
   "metadata": {
    "colab_type": "text",
    "id": "AmaDu10EytA2"
   },
   "source": [
    "There is an arithmetic associated to the string data type, see how a string behaves under the following operands:"
   ]
  },
  {
   "cell_type": "code",
   "execution_count": null,
   "metadata": {
    "colab": {},
    "colab_type": "code",
    "id": "e3MAURfOytA2"
   },
   "outputs": [],
   "source": [
    "hello = \"Hello\"\n",
    "space = \" \"\n",
    "world = \"World!\"\n",
    "print(hello + space + world)\n",
    "print((hello + space)*2 + world)\n"
   ]
  },
  {
   "cell_type": "markdown",
   "metadata": {
    "colab_type": "text",
    "id": "M-QB2q5IytA6"
   },
   "source": [
    "Notice that the sign \"+\" concatenates strings, but adds numbers when applied to `int`s or `float`s. An operator with different operations for different types is called an \"overloaded operator\". <br><br>\n",
    "It is possible to manually change the data type of a variable, for example strings to integers or floating-point numbers."
   ]
  },
  {
   "cell_type": "code",
   "execution_count": null,
   "metadata": {
    "colab": {},
    "colab_type": "code",
    "id": "gseYgE4uytA7"
   },
   "outputs": [],
   "source": [
    "s = \"123\"\n",
    "si = int(s) # string s converted to an integer\n",
    "print(si)\n",
    "sf = float(s) # string s converted to a floating point number\n",
    "print(sf)"
   ]
  },
  {
   "cell_type": "markdown",
   "metadata": {
    "colab_type": "text",
    "id": "c25_KoGNytA-"
   },
   "source": [
    "... or vice-versa:"
   ]
  },
  {
   "cell_type": "code",
   "execution_count": null,
   "metadata": {
    "colab": {},
    "colab_type": "code",
    "id": "NSwvC4X2ytA_"
   },
   "outputs": [],
   "source": [
    "d = 123\n",
    "ds = str(d)\n",
    "print(ds + \"_\" + \"s\")"
   ]
  },
  {
   "cell_type": "markdown",
   "metadata": {
    "colab_type": "text",
    "id": "vmgTV-wfytBE"
   },
   "source": [
    "Create a new string variable \"2018\", convert it to an integer, and add the result to the float number number = 5.7"
   ]
  },
  {
   "cell_type": "code",
   "execution_count": null,
   "metadata": {
    "colab": {},
    "colab_type": "code",
    "id": "OXg5uV0SytBF"
   },
   "outputs": [],
   "source": [
    "# CODE HERE\n",
    "string = \"2018\"\n",
    "convert = int(string)\n",
    "print(convert + 5.7)"
   ]
  },
  {
   "cell_type": "markdown",
   "metadata": {
    "colab_type": "text",
    "id": "P5ffVwZ4ytBH"
   },
   "source": [
    "Finally, strings can be split into lists!"
   ]
  },
  {
   "cell_type": "code",
   "execution_count": null,
   "metadata": {
    "colab": {},
    "colab_type": "code",
    "id": "qdbkPdTIytBJ"
   },
   "outputs": [],
   "source": [
    "s = \"123\"\n",
    "print(len(s))   # How long is this string?\n",
    "list(s)"
   ]
  },
  {
   "cell_type": "markdown",
   "metadata": {
    "colab_type": "text",
    "id": "702b-7R9ytBM"
   },
   "source": [
    "# Lists\n",
    "List is a mutable sequence of elements, i.e. once created, the separate elements can be changed. Lists can be created in the following way `a = [1,2,3]`\n"
   ]
  },
  {
   "cell_type": "code",
   "execution_count": null,
   "metadata": {
    "colab": {},
    "colab_type": "code",
    "id": "Ep_znahsytBM"
   },
   "outputs": [],
   "source": [
    "a = [1, 2, 3]\n",
    "print(\"Printing list a:\")\n",
    "print(a) \n",
    "b = [2, 5]\n",
    "c = b + a        # Lists can be added together, this appends list b to list a!\n",
    "print(\"Printing list c:\")\n",
    "print(c)"
   ]
  },
  {
   "cell_type": "markdown",
   "metadata": {
    "colab_type": "text",
    "id": "gAikpIxhytBQ"
   },
   "source": [
    "Try if lists can be subtracted or multiplied!"
   ]
  },
  {
   "cell_type": "code",
   "execution_count": null,
   "metadata": {
    "colab": {},
    "colab_type": "code",
    "id": "dBqm9EgMytBR"
   },
   "outputs": [],
   "source": [
    "# CODE HERE\n",
    "d = c - a\n",
    "print(c)"
   ]
  },
  {
   "cell_type": "code",
   "execution_count": null,
   "metadata": {},
   "outputs": [],
   "source": [
    "e = c * a\n",
    "print(e)"
   ]
  },
  {
   "cell_type": "markdown",
   "metadata": {
    "colab_type": "text",
    "id": "6N3jtlHQytBU"
   },
   "source": [
    "Elements in a list can be accessed separately, each element has an associated index starting from 0"
   ]
  },
  {
   "cell_type": "code",
   "execution_count": null,
   "metadata": {
    "colab": {},
    "colab_type": "code",
    "id": "S3wfzy1oytBV"
   },
   "outputs": [],
   "source": [
    "print(a[0])   # first element is numbered by 0, not 1!\n",
    "print(a[2])   # third element of the list\n",
    "print(a[-1])  # last element of the list\n",
    "a[0] = 5\n",
    "print(a)      # we have modified the first element"
   ]
  },
  {
   "cell_type": "markdown",
   "metadata": {
    "colab_type": "text",
    "id": "imBwfA-8ytBY"
   },
   "source": [
    "Write a code to access the 10th element of the list `a`:"
   ]
  },
  {
   "cell_type": "code",
   "execution_count": null,
   "metadata": {
    "colab": {},
    "colab_type": "code",
    "id": "fn-C6fDtytBZ"
   },
   "outputs": [],
   "source": [
    "# CODE HERE\n",
    "print(a[9])"
   ]
  },
  {
   "cell_type": "markdown",
   "metadata": {
    "colab_type": "text",
    "collapsed": true,
    "id": "PswJ3ndxytBc"
   },
   "source": [
    "Can you use your python knowledge of lists and strings to find the 10th character in the sentence below?\n",
    "\n",
    "`s = \"This is a string with an exciting 10th character!\"`"
   ]
  },
  {
   "cell_type": "code",
   "execution_count": null,
   "metadata": {
    "colab": {},
    "colab_type": "code",
    "id": "wXGfbsNZytBe"
   },
   "outputs": [],
   "source": [
    "# CODE HERE\n",
    "s = \"This is a string with an exciting 10th character\"\n",
    "print(s[9])"
   ]
  },
  {
   "cell_type": "markdown",
   "metadata": {
    "colab_type": "text",
    "id": "WzYdiIUcytBi"
   },
   "source": [
    "Below you can see some handy functions that can be perfomed on a list:"
   ]
  },
  {
   "cell_type": "code",
   "execution_count": null,
   "metadata": {
    "colab": {},
    "colab_type": "code",
    "id": "qXTGj0IsytBj"
   },
   "outputs": [],
   "source": [
    "# length of a list\n",
    "print(len(a))\n",
    "# sum of all list elements\n",
    "sum(a)\n",
    "print(sum(a))\n",
    "# adding an element to the end of the list\n",
    "a.append(10)\n",
    "print(a)"
   ]
  },
  {
   "cell_type": "markdown",
   "metadata": {
    "colab_type": "text",
    "id": "Fgq54YXlytBl"
   },
   "source": [
    "Especially useful is the sort() function:"
   ]
  },
  {
   "cell_type": "code",
   "execution_count": null,
   "metadata": {
    "colab": {},
    "colab_type": "code",
    "id": "ucV8S_hdytBn",
    "scrolled": true
   },
   "outputs": [],
   "source": [
    "v = [5, 3, 8, 1]\n",
    "print(\"the list v is :\")\n",
    "print(v)\n",
    "print(\"the list v after sorting is: \")\n",
    "v.sort()\n",
    "print(v)\n",
    "\n",
    "# Try to print out the result of the function reverse() without converting to list. What type is it?\n",
    "print(\"printing the reversed sorted list v:\")\n",
    "print(list(reversed(v)))   "
   ]
  },
  {
   "cell_type": "markdown",
   "metadata": {
    "colab_type": "text",
    "id": "IdRf-zTOytBp"
   },
   "source": [
    "The elements in a list do not need to be all of the same type."
   ]
  },
  {
   "cell_type": "code",
   "execution_count": null,
   "metadata": {
    "colab": {},
    "colab_type": "code",
    "id": "VB5FOZsPytBp"
   },
   "outputs": [],
   "source": [
    "good_list = ['Data Science', 485, True, 0.001]\n",
    "print(good_list)"
   ]
  },
  {
   "cell_type": "markdown",
   "metadata": {
    "colab_type": "text",
    "id": "3rF0S3N8ytBr"
   },
   "source": [
    "Lists can also contain more lists, exciting! Let's append a list at the end of a list:"
   ]
  },
  {
   "cell_type": "code",
   "execution_count": null,
   "metadata": {
    "colab": {},
    "colab_type": "code",
    "id": "DSs_j8lCytBs"
   },
   "outputs": [],
   "source": [
    "good_list.append(['another', 'list'])\n",
    "print(good_list)\n",
    "print(good_list[-1][0]) # picks the first element of the last element of good_list"
   ]
  },
  {
   "cell_type": "markdown",
   "metadata": {
    "colab_type": "text",
    "id": "i1RZU2O4ytBt"
   },
   "source": [
    "How many elements does the list `[[0,1,2,3,4,5,6]]` have? Use the `len()` function to see if you were right."
   ]
  },
  {
   "cell_type": "code",
   "execution_count": null,
   "metadata": {
    "colab": {},
    "colab_type": "code",
    "id": "N5g5CLGhytBv"
   },
   "outputs": [],
   "source": [
    "# CODE HERE\n",
    "l = [0,1,2,3,4,5,6]\n",
    "print(len(l))"
   ]
  },
  {
   "cell_type": "markdown",
   "metadata": {
    "colab_type": "text",
    "id": "mCRtYeahytBx"
   },
   "source": [
    "`range()` is a particularly useful iterator that can be converted into a list:"
   ]
  },
  {
   "cell_type": "code",
   "execution_count": null,
   "metadata": {
    "colab": {},
    "colab_type": "code",
    "id": "ZHLB9hsOytBy"
   },
   "outputs": [],
   "source": [
    "r = range(10)\n",
    "print(r)"
   ]
  },
  {
   "cell_type": "markdown",
   "metadata": {
    "colab_type": "text",
    "id": "6Ru7tQ0kytB0"
   },
   "source": [
    "In the future you will see that the result of the `range()` function behaves just like a list would when combined with certain functions or in loops. If you want the result to really be a list, make sure to convert it!"
   ]
  },
  {
   "cell_type": "code",
   "execution_count": null,
   "metadata": {
    "colab": {},
    "colab_type": "code",
    "id": "KjfgDKfCytB2"
   },
   "outputs": [],
   "source": [
    "r = list(r)    \n",
    "print(r)\n",
    "print(len(r), sum(r))"
   ]
  },
  {
   "cell_type": "markdown",
   "metadata": {
    "colab_type": "text",
    "id": "xpQtn2_oytB3"
   },
   "source": [
    "The `range()` function can have a specified start, end and step size. The syntax is: range(first element, last element, step size)\n",
    "\n",
    "If step size is not specified, the default value is one."
   ]
  },
  {
   "cell_type": "code",
   "execution_count": null,
   "metadata": {
    "colab": {},
    "colab_type": "code",
    "id": "UF7VlbhNytB5"
   },
   "outputs": [],
   "source": [
    "print(list(range(1,10,2)))\n",
    "print(list(range(10,1)))\n",
    "print(list(range(10,1,-1)))"
   ]
  },
  {
   "cell_type": "markdown",
   "metadata": {
    "colab_type": "text",
    "id": "ZpkvJKyAytB9"
   },
   "source": [
    "Create a list of all the multiples of three between 1000 and 2500:"
   ]
  },
  {
   "cell_type": "code",
   "execution_count": null,
   "metadata": {
    "colab": {},
    "colab_type": "code",
    "id": "wYQsHh7LytB-"
   },
   "outputs": [],
   "source": [
    "# CODE HERE\n",
    "print(list(range(1002,2500,3)))"
   ]
  },
  {
   "cell_type": "markdown",
   "metadata": {
    "colab_type": "text",
    "collapsed": true,
    "id": "QEtzHGOfytCA"
   },
   "source": [
    "## Accessing elements"
   ]
  },
  {
   "cell_type": "markdown",
   "metadata": {
    "colab_type": "text",
    "id": "nkOPjlwDytCB"
   },
   "source": [
    "You have already seen how to access a single element in a list:"
   ]
  },
  {
   "cell_type": "code",
   "execution_count": null,
   "metadata": {
    "colab": {},
    "colab_type": "code",
    "id": "HKmAi3HgytCB"
   },
   "outputs": [],
   "source": [
    "a = [3, 1, 4, 1, 5, 9, 2, 6, 5, 3, 5, 9]\n",
    "print(a[0])\n",
    "print(a[1])\n",
    "print(a[-1])"
   ]
  },
  {
   "cell_type": "markdown",
   "metadata": {
    "colab_type": "text",
    "id": "X4g7XvT4ytCG"
   },
   "source": [
    "In python, you can also access \"sublists\" of lists, the syntax is: list[ start : end : step ]"
   ]
  },
  {
   "cell_type": "markdown",
   "metadata": {},
   "source": [
    "But remember python only includes the start but no the end\n",
    "i.e. if you want to print the first ten elements of a list, do [0:11]"
   ]
  },
  {
   "cell_type": "code",
   "execution_count": null,
   "metadata": {
    "colab": {},
    "colab_type": "code",
    "id": "BzDu75JbytCG"
   },
   "outputs": [],
   "source": [
    "print(a[0:2])   # first two elements\n",
    "print(a[:2])    # from the start to element two\n",
    "print(a[7:])    # from element seven to the end\n",
    "print(a[-2:])   \n",
    "print(a[::2])   # every second element from the start to the end"
   ]
  },
  {
   "cell_type": "markdown",
   "metadata": {
    "colab_type": "text",
    "id": "bk5wvWPxytCI"
   },
   "source": [
    "Create a list containing 11 elements, print out the following sublists:\n",
    "    - All elements between the 2nd and 5th element\n",
    "    - Every second element of the list\n",
    "    - Print out the whole list backwards\n",
    "    - Exchange the order of the 4th and 5th element and the 8th and 9th element."
   ]
  },
  {
   "cell_type": "code",
   "execution_count": null,
   "metadata": {
    "colab": {},
    "colab_type": "code",
    "id": "Tf_6cDBrytCJ"
   },
   "outputs": [],
   "source": [
    "# CODE HERE\n",
    "r = list(range(8,30,2))\n",
    "print(\"the list is:\")\n",
    "print(r)\n",
    "print(\"every second element of the list:\")\n",
    "print(r[1:11:2])\n",
    "print(\"the whole list backwards:\")\n",
    "print(list(reversed(r)))"
   ]
  },
  {
   "cell_type": "markdown",
   "metadata": {
    "colab_type": "text",
    "id": "5J3FjoDiytCK"
   },
   "source": [
    "## Logic"
   ]
  },
  {
   "cell_type": "markdown",
   "metadata": {
    "colab_type": "text",
    "id": "VczvzFbMytCL"
   },
   "source": [
    "In Python it is often necessary to write down conditions which result in a boolean value (either `False` or `True`). It is important to learn how to evaluate such conditions using basic logic. Let's look at some logic operations first:"
   ]
  },
  {
   "cell_type": "code",
   "execution_count": 5,
   "metadata": {
    "colab": {
     "base_uri": "https://localhost:8080/",
     "height": 151
    },
    "colab_type": "code",
    "executionInfo": {
     "elapsed": 1017,
     "status": "ok",
     "timestamp": 1539708858938,
     "user": {
      "displayName": "Edward Lim",
      "photoUrl": "",
      "userId": "05219823243799720278"
     },
     "user_tz": -60
    },
    "id": "oHfPNnCiytCM",
    "outputId": "db2c7fd7-505c-45a9-f762-07790a2645a5"
   },
   "outputs": [
    {
     "name": "stdout",
     "output_type": "stream",
     "text": [
      "True\n",
      "True\n",
      "True\n",
      "False\n",
      "True\n",
      "False\n",
      "True\n",
      "False\n"
     ]
    }
   ],
   "source": [
    "#or operator\n",
    "print(True or False or False)\n",
    "print(False or False or True)\n",
    "print(True or True)\n",
    "\n",
    "#and operator\n",
    "print(False and False)\n",
    "print(True and True)\n",
    "print(True and False)\n",
    "\n",
    "#not operator\n",
    "print(not False)\n",
    "print(not True)"
   ]
  },
  {
   "cell_type": "markdown",
   "metadata": {
    "colab_type": "text",
    "id": "aPqthjLzytCN"
   },
   "source": [
    "This can be summarised into this table\n",
    "![alt text](https://upload.wikimedia.org/wikipedia/commons/4/4a/Truth_table_for_AND%2C_OR%2C_and_NOT.png)"
   ]
  },
  {
   "cell_type": "markdown",
   "metadata": {
    "colab_type": "text",
    "id": "wi1Y6_IEytCO"
   },
   "source": [
    "These logical operations can be incorporated in terms of mathematical operations, let's define a few variables:"
   ]
  },
  {
   "cell_type": "code",
   "execution_count": null,
   "metadata": {
    "colab": {},
    "colab_type": "code",
    "id": "GA3UmCy3ytCP"
   },
   "outputs": [],
   "source": [
    "a = 5 # an integer\n",
    "b = 6 # another integer\n",
    "c = [0,1,2,3,4,5] # a list"
   ]
  },
  {
   "cell_type": "markdown",
   "metadata": {
    "colab_type": "text",
    "id": "LYLE8QNPytCQ"
   },
   "source": [
    "Now we can test a few logic operations on these variables, look at the cell below and try to guess the output! Write your guesses down before running the cell!"
   ]
  },
  {
   "cell_type": "code",
   "execution_count": null,
   "metadata": {
    "colab": {
     "base_uri": "https://localhost:8080/",
     "height": 118
    },
    "colab_type": "code",
    "executionInfo": {
     "elapsed": 768,
     "status": "ok",
     "timestamp": 1539708885134,
     "user": {
      "displayName": "Edward Lim",
      "photoUrl": "",
      "userId": "05219823243799720278"
     },
     "user_tz": -60
    },
    "id": "l4CWfIjuytCR",
    "outputId": "be7d1537-e286-4c9c-b09d-c25aa6e54f4a"
   },
   "outputs": [],
   "source": [
    "print(a == b) # a equal to b\n",
    "print(a+a == b) # 2a equal to b\n",
    "print(a != b) # a not equal to b\n",
    "print(a > b) # a greater than b\n",
    "print(a < b) # a lesser than b\n",
    "print(a <= b) # a lesser or equal to b"
   ]
  },
  {
   "cell_type": "markdown",
   "metadata": {
    "colab_type": "text",
    "id": "KWWdKfYVytCS"
   },
   "source": [
    "There are a few more intuitive operations that will come handy later on:"
   ]
  },
  {
   "cell_type": "code",
   "execution_count": null,
   "metadata": {
    "colab": {},
    "colab_type": "code",
    "id": "BBIW3nYpytCT"
   },
   "outputs": [],
   "source": [
    "print(a in c) #if a is in c?\n",
    "print(b in c) #if b is in c?\n",
    "print(a not in c) #if a is not in c?\n",
    "print(b not in c) #if b is not in c?\n",
    "print(a and b in c) #if both a and b is in c?\n",
    "print(a or b in c) #if either a or b is in c?\n",
    "\n",
    "print(2 is '2') #if integer 2 is string 2?\n",
    "print(\"2\" is '2') #double quote and single quotes are equivalent?\n",
    "print(2 is not '2') #if integer 2 is not string 2?"
   ]
  },
  {
   "cell_type": "markdown",
   "metadata": {
    "colab_type": "text",
    "id": "6q5R49RFytCW"
   },
   "source": [
    "Make sure you understand each of the above results, if you don't, ask one of the demonstrators."
   ]
  },
  {
   "cell_type": "markdown",
   "metadata": {
    "colab_type": "text",
    "collapsed": true,
    "id": "tWs3jw4tytCX"
   },
   "source": [
    "## Conditional statements\n",
    "Conditional statements are useful when we want to run some parts of the code only if some conditions are fulfilled. The syntax is:\n",
    "\n",
    "`if [Condition]:\n",
    "    [Code]`\n",
    "    \n",
    "If the `[Condition]` in the if statement has the value True, the `[Code]` will be executed, otherwise it will not."
   ]
  },
  {
   "cell_type": "code",
   "execution_count": null,
   "metadata": {
    "colab": {},
    "colab_type": "code",
    "id": "oIAOLb61ytCY"
   },
   "outputs": [],
   "source": [
    "# Lets start with a few simple conditional statements\n",
    "if True:\n",
    "    print(\"The condition after \\\"if\\\" is true!\")"
   ]
  },
  {
   "cell_type": "code",
   "execution_count": null,
   "metadata": {
    "colab": {},
    "colab_type": "code",
    "id": "G5eyzpX_ytCZ"
   },
   "outputs": [],
   "source": [
    "if False:\n",
    "    print(\"The condition after \\\"if\\\" is false :( !\")"
   ]
  },
  {
   "cell_type": "code",
   "execution_count": null,
   "metadata": {
    "colab": {},
    "colab_type": "code",
    "id": "r9pFl2QCytCg",
    "scrolled": true
   },
   "outputs": [],
   "source": [
    "# It is possible to include a number of conditions! If neither is true, then the code in else will run.\n",
    "a = 5\n",
    "if a == 2:\n",
    "    print(\"a is equal to two!\")\n",
    "elif a == 3 or a == 4:\n",
    "    print(\"a is equal to three or four?\")\n",
    "else:\n",
    "    print(\"a is not two, three or four!\")"
   ]
  },
  {
   "cell_type": "markdown",
   "metadata": {
    "colab_type": "text",
    "id": "4JPpCsPUytCj"
   },
   "source": [
    "**IMPORTANT** Indentation is essential for Python.\n",
    "\n",
    "Run the following block of code. How is it different?"
   ]
  },
  {
   "cell_type": "code",
   "execution_count": null,
   "metadata": {
    "colab": {},
    "colab_type": "code",
    "id": "G60hGMSrytCj"
   },
   "outputs": [],
   "source": [
    "a = 5\n",
    "if a == 2:\n",
    "print(\"a is equal to two!\")\n",
    "elif a == 3 or a == 4:\n",
    "print(\"a is equal to three or four?\")\n",
    "else:\n",
    "print(\"a is not two, three or four!\")"
   ]
  },
  {
   "cell_type": "markdown",
   "metadata": {
    "colab_type": "text",
    "id": "fBirJrJIytCl"
   },
   "source": [
    "As you can see, indentations have to be placed after every ' : '"
   ]
  },
  {
   "cell_type": "markdown",
   "metadata": {
    "colab_type": "text",
    "id": "JXvtFCHSytCm"
   },
   "source": [
    "Write a code that takes a list with n elements on its input, and returns the string `\"Too long\"` if the n > 10, `\"Too short\"` if n < 10, and `\"Ideal\"` if n = 10."
   ]
  },
  {
   "cell_type": "code",
   "execution_count": null,
   "metadata": {
    "colab": {},
    "colab_type": "code",
    "id": "VNn7ALlnytCn"
   },
   "outputs": [],
   "source": [
    "#Code Here\n",
    "l = list(range(0,10))\n",
    "n = len(l)\n",
    "if n>10:\n",
    "    print(\"Too long\")\n",
    "elif n<10:\n",
    "    print(\"Too short\")\n",
    "else:\n",
    "    print(\"Ideal\")"
   ]
  },
  {
   "cell_type": "markdown",
   "metadata": {
    "colab_type": "text",
    "id": "P59pCAkFytCp"
   },
   "source": [
    "## For loop"
   ]
  },
  {
   "cell_type": "markdown",
   "metadata": {
    "colab_type": "text",
    "id": "OohG3uF2ytCr"
   },
   "source": [
    "Loops are one of the most important structures you will learn today, they allow cerain parts of the code to be executed multiple times. In Python the `for` loop is used extensively. The syntax is: `for <variable> in <list of elements>:`"
   ]
  },
  {
   "cell_type": "code",
   "execution_count": null,
   "metadata": {
    "colab": {},
    "colab_type": "code",
    "id": "rts1VHI_ytCs"
   },
   "outputs": [],
   "source": [
    "# one by one each element of the list is assigned to the variable i, then the code inside the for loop is executed\n",
    "for i in range(10):\n",
    "    print(i)"
   ]
  },
  {
   "cell_type": "code",
   "execution_count": null,
   "metadata": {
    "colab": {},
    "colab_type": "code",
    "id": "LlooAVMUytCu"
   },
   "outputs": [],
   "source": [
    "# The loop iterates over the list, sequentially assigning values to the variable i. The code within the loop prints the value.\n",
    "for i in [4, 1, 5, 22, 5]:\n",
    "    print(i)"
   ]
  },
  {
   "cell_type": "code",
   "execution_count": null,
   "metadata": {
    "colab": {},
    "colab_type": "code",
    "id": "Gu979QKnytCw"
   },
   "outputs": [],
   "source": [
    "# The loop iterates over the list, sequentially assigning values to the variable i. The code within the loop prints the value.\n",
    "for i in [4, 1, 5, 22, 5]:\n",
    "    print (i, i+10)"
   ]
  },
  {
   "cell_type": "code",
   "execution_count": null,
   "metadata": {
    "colab": {},
    "colab_type": "code",
    "id": "mI4vD_beytCy"
   },
   "outputs": [],
   "source": [
    "for i in \"abc\":   #it is also possible to iterate over strings\n",
    "    print(i)"
   ]
  },
  {
   "cell_type": "code",
   "execution_count": null,
   "metadata": {
    "colab": {},
    "colab_type": "code",
    "id": "9aGP8V3mytC1"
   },
   "outputs": [],
   "source": [
    "# sometimes it is useful to have two nested for loops, keep in mind the more nested loops the slower the code!\n",
    "for i in [1,2,3]:\n",
    "    for j in range(2,22,5):\n",
    "        print(i, j)"
   ]
  },
  {
   "cell_type": "markdown",
   "metadata": {
    "colab_type": "text",
    "id": "iow7wtPqytC3"
   },
   "source": [
    "Calculate the hundredth element of the Fibonacci sequence. $F_0=0$, $F_1 = 1$, $F_{i+2} = F_{i+1} + F_{i}$."
   ]
  },
  {
   "cell_type": "code",
   "execution_count": null,
   "metadata": {
    "colab": {},
    "colab_type": "code",
    "id": "rVMEPYaLytC3"
   },
   "outputs": [],
   "source": [
    "# CODE HERE\n",
    "F_i = 0\n",
    "F_i1 = 1\n",
    "F_i2 = 1\n",
    "for i in range(49):\n",
    "    F_i2 = F_i1 + F_i2\n",
    "    F_i1 = F_i2 + F_i1\n",
    "    F_i = F_i1 + F_i2\n",
    "print(F_i1)"
   ]
  },
  {
   "cell_type": "markdown",
   "metadata": {
    "colab_type": "text",
    "id": "a6AyL9JvytC5"
   },
   "source": [
    "## List comprehension"
   ]
  },
  {
   "cell_type": "markdown",
   "metadata": {
    "colab_type": "text",
    "collapsed": true,
    "id": "r_C5IOUfytC5"
   },
   "source": [
    "If you encounter an expression such as this:\n",
    "\n",
    "`for item in list:\n",
    "    if conditional:\n",
    "        expression`\n",
    "        \n",
    "It can be briefly written in python as:\n",
    "\n",
    "`[ expression for item in list if conditional ]`"
   ]
  },
  {
   "cell_type": "code",
   "execution_count": null,
   "metadata": {
    "colab": {},
    "colab_type": "code",
    "id": "Bi3tNWLuytC6"
   },
   "outputs": [],
   "source": [
    "# You can either use loops:\n",
    "squares = []\n",
    "\n",
    "for x in range(10):\n",
    "    squares.append(x**2)\n",
    " \n",
    "print(squares)"
   ]
  },
  {
   "cell_type": "code",
   "execution_count": null,
   "metadata": {
    "colab": {},
    "colab_type": "code",
    "id": "fuv34SAmytC7"
   },
   "outputs": [],
   "source": [
    "# Or you can use list comprehensions to get the same result:\n",
    "squares = [x**2 for x in range(10)]\n",
    "\n",
    "print(squares)"
   ]
  },
  {
   "cell_type": "markdown",
   "metadata": {
    "colab_type": "text",
    "id": "gE4_wCXsytC9"
   },
   "source": [
    "Code a comprehension list that iterates over first 100 whole numbers and picks out the even ones:"
   ]
  },
  {
   "cell_type": "code",
   "execution_count": null,
   "metadata": {
    "colab": {},
    "colab_type": "code",
    "id": "XST8D-5RytC-"
   },
   "outputs": [],
   "source": [
    "# CODE HERE\n",
    "whole_numbers = [x for x in range(100)]\n",
    "print(whole_numbers[0:101:2])"
   ]
  },
  {
   "cell_type": "markdown",
   "metadata": {
    "colab_type": "text",
    "id": "Ad156CjXytC_"
   },
   "source": [
    "Create a comprehension list that replaces every number <50 with True and >50 with False:"
   ]
  },
  {
   "cell_type": "code",
   "execution_count": null,
   "metadata": {
    "colab": {},
    "colab_type": "code",
    "id": "ARX5CJNgytC_"
   },
   "outputs": [],
   "source": [
    "# CODE HERE\n",
    "f = []\n",
    "F=0\n",
    "for i in range(100):\n",
    "    F=F+1\n",
    "    if F<50:\n",
    "        f.append(True)\n",
    "    else:\n",
    "        f.append(False)\n",
    "print(f)"
   ]
  },
  {
   "cell_type": "markdown",
   "metadata": {
    "colab_type": "text",
    "id": "HdLlGnK8ytDC"
   },
   "source": [
    "## While loop"
   ]
  },
  {
   "cell_type": "markdown",
   "metadata": {
    "colab_type": "text",
    "id": "8kqOY8ivytDD"
   },
   "source": [
    "While loop is a classic loop with a set condition, while the condition is true, the cycle will repeat."
   ]
  },
  {
   "cell_type": "code",
   "execution_count": 1,
   "metadata": {
    "colab": {},
    "colab_type": "code",
    "id": "ENjXbfybytDD",
    "scrolled": false
   },
   "outputs": [
    {
     "name": "stdout",
     "output_type": "stream",
     "text": [
      "0\n",
      "1\n",
      "2\n",
      "3\n",
      "4\n",
      "5\n",
      "6\n",
      "7\n",
      "8\n",
      "9\n"
     ]
    }
   ],
   "source": [
    "i = 0\n",
    "while i < 10:\n",
    "    print(i)\n",
    "    i = i + 1"
   ]
  },
  {
   "cell_type": "markdown",
   "metadata": {
    "colab_type": "text",
    "id": "ifhimblGytDF"
   },
   "source": [
    "If the while condition is always true, the cycle will never stop."
   ]
  },
  {
   "cell_type": "code",
   "execution_count": null,
   "metadata": {
    "colab": {},
    "colab_type": "code",
    "id": "InHoXsYqytDF"
   },
   "outputs": [],
   "source": [
    "\"\"\"i = 0.000001\n",
    "while i != 10:\n",
    "    i += 1\n",
    "    print(i)\"\"\""
   ]
  },
  {
   "cell_type": "markdown",
   "metadata": {
    "colab_type": "text",
    "id": "bQv4Yt_KytDI"
   },
   "source": [
    "## Functions\n",
    "\n",
    "Functions are a basic building block of a programming language. In python, functions can return multiple variables at the output. (unlike C/C++ and Fortran). The syntax is:\n",
    "\n",
    "`def [function name]( [inputs] ):\n",
    "    [code within the function]\n",
    "    return [output]`"
   ]
  },
  {
   "cell_type": "code",
   "execution_count": null,
   "metadata": {
    "colab": {},
    "colab_type": "code",
    "id": "WZHJZIvTytDJ"
   },
   "outputs": [],
   "source": [
    "def plus(a, b):\n",
    "    return a + b"
   ]
  },
  {
   "cell_type": "code",
   "execution_count": null,
   "metadata": {
    "colab": {},
    "colab_type": "code",
    "id": "rwFFcH5TytDL"
   },
   "outputs": [],
   "source": [
    "print(plus(1, 2))\n",
    "print(plus(3.2, -1))"
   ]
  },
  {
   "cell_type": "code",
   "execution_count": null,
   "metadata": {
    "colab": {},
    "colab_type": "code",
    "id": "ct6gpy0rytDO"
   },
   "outputs": [],
   "source": [
    "# functions can have default input values\n",
    "def plus2(a, b=2):\n",
    "    return a + b\n",
    "\n",
    "print(plus2(7))\n",
    "print(plus2(7,4))"
   ]
  },
  {
   "cell_type": "markdown",
   "metadata": {
    "colab_type": "text",
    "id": "rBbfiaadytDP"
   },
   "source": [
    "Analyse the following function, what do you think it does? Use the function on a number of testcases to see if your guess is correct."
   ]
  },
  {
   "cell_type": "code",
   "execution_count": null,
   "metadata": {},
   "outputs": [],
   "source": [
    "a"
   ]
  },
  {
   "cell_type": "markdown",
   "metadata": {},
   "source": [
    "a += b is the sam as a = a+b"
   ]
  },
  {
   "cell_type": "code",
   "execution_count": null,
   "metadata": {
    "colab": {},
    "colab_type": "code",
    "id": "tRCm5Z7VytDQ"
   },
   "outputs": [],
   "source": [
    "def random_func(a):\n",
    "    something = 0\n",
    "    \n",
    "    for character in str(a):\n",
    "        something += int(character)\n",
    "        \n",
    "    return something"
   ]
  },
  {
   "cell_type": "code",
   "execution_count": null,
   "metadata": {
    "colab": {},
    "colab_type": "code",
    "id": "g3wtUlXgytDR"
   },
   "outputs": [],
   "source": [
    "random_func(123)"
   ]
  },
  {
   "cell_type": "code",
   "execution_count": null,
   "metadata": {},
   "outputs": [],
   "source": [
    "random_func(8888883)"
   ]
  },
  {
   "cell_type": "markdown",
   "metadata": {
    "colab_type": "text",
    "id": "0598FtoNytDT"
   },
   "source": [
    "Combine your knowledge of comprehension lists and functions to write a function that finds all the even numbers between n and m:"
   ]
  },
  {
   "cell_type": "code",
   "execution_count": null,
   "metadata": {
    "colab": {},
    "colab_type": "code",
    "id": "YLxx7KIHytDU"
   },
   "outputs": [],
   "source": [
    "# CODE HERE\n",
    "b=[]\n",
    "def even_numbers(n,m): \n",
    "    for i in range(n,m+1):\n",
    "         if type(i/2) == type(1):\n",
    "            b=b+[i]\n",
    "            return b\n",
    "print(even_numbers(1,9))\n",
    "b"
   ]
  },
  {
   "cell_type": "code",
   "execution_count": null,
   "metadata": {},
   "outputs": [],
   "source": [
    "a=[]\n",
    "def even_numbers(n,m):\n",
    "    for i in range(n,m+1):\n",
    "        if i%2==0:\n",
    "            a.append(i)\n",
    "    return a"
   ]
  },
  {
   "cell_type": "code",
   "execution_count": null,
   "metadata": {},
   "outputs": [],
   "source": [
    "even_numbers(1,9)"
   ]
  },
  {
   "cell_type": "code",
   "execution_count": null,
   "metadata": {},
   "outputs": [],
   "source": [
    "n=int(input('Enter n: '))\n",
    "m=int(input('Enter m: '))\n",
    "a=[]\n",
    "R=range(n,m+1)\n",
    "\n",
    "for i in R:\n",
    "    if i%2==0:\n",
    "        a=a+[i]\n",
    "print(a)"
   ]
  },
  {
   "cell_type": "code",
   "execution_count": null,
   "metadata": {},
   "outputs": [],
   "source": [
    "input()"
   ]
  },
  {
   "cell_type": "markdown",
   "metadata": {
    "colab_type": "text",
    "id": "dli48oXZytDX"
   },
   "source": [
    "***\n",
    "## [Problem]\n",
    "A bank provides ISA with 5% interest per annum. If you deposit 50 pounds a month into the ISA over the period of one year, and the money deposited in the account is compounded at the end of every month, how much money will be in the account at the end of the year?"
   ]
  },
  {
   "cell_type": "code",
   "execution_count": null,
   "metadata": {
    "colab": {},
    "colab_type": "code",
    "id": "O2wxOQr4ytDY"
   },
   "outputs": [],
   "source": [
    "# CODE HERE\n",
    "r=0.05\n",
    "\n",
    "def savings(s,m):\n",
    "    for i in range(m):\n",
    "        s=s+0.05*s\n",
    "    return s"
   ]
  },
  {
   "cell_type": "markdown",
   "metadata": {},
   "source": [
    "range start with 0, not 1, so it isn't m+1"
   ]
  },
  {
   "cell_type": "code",
   "execution_count": null,
   "metadata": {},
   "outputs": [],
   "source": [
    "savings(50,12)"
   ]
  },
  {
   "cell_type": "markdown",
   "metadata": {
    "colab_type": "text",
    "collapsed": true,
    "id": "BaDBNseSytDa"
   },
   "source": [
    "---\n",
    "## [Problem]\n",
    "Code a function that sums the digits in a number.\n"
   ]
  },
  {
   "cell_type": "code",
   "execution_count": null,
   "metadata": {
    "colab": {},
    "colab_type": "code",
    "id": "LyREGapIytDc"
   },
   "outputs": [],
   "source": [
    "# CODE HERE\n",
    "def digit_sum(a):\n",
    "    zero=0\n",
    "    for character in str(a):\n",
    "        zero += int(character)\n",
    "    return zero"
   ]
  },
  {
   "cell_type": "code",
   "execution_count": null,
   "metadata": {},
   "outputs": [],
   "source": [
    "digit_sum(666)"
   ]
  },
  {
   "cell_type": "markdown",
   "metadata": {
    "colab_type": "text",
    "id": "_qmNdcEUytDf"
   },
   "source": [
    "---\n",
    "## [Problem]\n",
    "Find the sum of all integer multiples of 3 or 5 smaller than 10000."
   ]
  },
  {
   "cell_type": "code",
   "execution_count": null,
   "metadata": {
    "colab": {},
    "colab_type": "code",
    "id": "XvSLpUkxytDg"
   },
   "outputs": [],
   "source": [
    "# CODE HERE\n",
    "def sum_of_multiples(x):\n",
    "    \"Function that gives sum of all interger multiples of 3 or 5 smaller than x\"\n",
    "    s=0\n",
    "    for i in range(1,x):\n",
    "        if i%3==0:\n",
    "            s+=i\n",
    "        elif i%5==0:\n",
    "            s+=i\n",
    "    return s\n",
    "sum_of_multiples(10000)"
   ]
  },
  {
   "cell_type": "markdown",
   "metadata": {
    "colab_type": "text",
    "id": "SYv2EezlytDh"
   },
   "source": [
    "---\n",
    "## [Problem] [Adv]\n",
    "Code a function that decides whether the input is a prime number or not.\n",
    "\n",
    "Find the sum of the first 100 prime numbers."
   ]
  },
  {
   "cell_type": "code",
   "execution_count": null,
   "metadata": {},
   "outputs": [],
   "source": [
    "def prime_number(a):\n",
    "    n=0\n",
    "    for i in range(2,a):\n",
    "        if a%i==0:\n",
    "            n+=1\n",
    "        else:\n",
    "            n+=0\n",
    "    if n==0:\n",
    "        return (\"It is a prime number!\")\n",
    "    else:\n",
    "        return (\"It isn't a prime number!\")   \n",
    "prime_number(5)"
   ]
  },
  {
   "cell_type": "code",
   "execution_count": null,
   "metadata": {},
   "outputs": [],
   "source": [
    "s=[]\n",
    "def prime_number(a):\n",
    "    n=0\n",
    "    for i in range(2,a):\n",
    "        if a%i==0:\n",
    "            n+=1\n",
    "        else:\n",
    "            n+=0\n",
    "    if n==0:\n",
    "        s.append(a)   \n",
    "def prime_sum(n):\n",
    "    b=0\n",
    "    x=2\n",
    "    while b<n:    \n",
    "        prime_number(x)\n",
    "        x+=1\n",
    "        b=len(s)\n",
    "    output=sum(s)\n",
    "    return output\n",
    "prime_sum(11111)"
   ]
  },
  {
   "cell_type": "code",
   "execution_count": null,
   "metadata": {},
   "outputs": [],
   "source": [
    "from random import randrange\n",
    "sleeping_hour = randrange(0, 9)\n",
    "\n",
    "print(\"When is Katie gonna wake up today?\")\n",
    "if sleeping_hour>=7:\n",
    "    print(\"She will wake up before 9am.\")\n",
    "else:\n",
    "    print(\"She will snooze her alarm and never wake up!\")"
   ]
  }
 ],
 "metadata": {
  "colab": {
   "collapsed_sections": [
    "QEtzHGOfytCA",
    "P59pCAkFytCp",
    "a6AyL9JvytC5",
    "HdLlGnK8ytDC",
    "bQv4Yt_KytDI",
    "dli48oXZytDX",
    "BaDBNseSytDa",
    "_qmNdcEUytDf",
    "SYv2EezlytDh"
   ],
   "name": "lec_1.ipynb",
   "provenance": [],
   "version": "0.3.2"
  },
  "kernelspec": {
   "display_name": "Python 3",
   "language": "python",
   "name": "python3"
  },
  "language_info": {
   "codemirror_mode": {
    "name": "ipython",
    "version": 3
   },
   "file_extension": ".py",
   "mimetype": "text/x-python",
   "name": "python",
   "nbconvert_exporter": "python",
   "pygments_lexer": "ipython3",
   "version": "3.7.0"
  }
 },
 "nbformat": 4,
 "nbformat_minor": 1
}
